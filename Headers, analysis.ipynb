{
 "cells": [
  {
   "cell_type": "code",
   "execution_count": 34,
   "id": "7228f263",
   "metadata": {},
   "outputs": [
    {
     "name": "stdout",
     "output_type": "stream",
     "text": [
      "Среднее количество слов: 5.737691001697793\n",
      "Медианное количество слов: 5.0\n"
     ]
    }
   ],
   "source": [
    "#посчитать среднюю и медианную длину заголовка;\n",
    "\n",
    "import pandas as pd\n",
    "df = pd.read_excel('C:\\\\Users\\\\Sigma4ka\\\\Desktop\\\\headers.xlsx')\n",
    "text_column = df[\"Ярослав Кузьминов: нехватку кадров в России можно решить\"].iloc[0:1178] \n",
    "word_counts = text_column.str.split().str.len()\n",
    "average_word_count = word_counts.mean()\n",
    "median_word_count = word_counts.median()\n",
    "print(f'Среднее количество слов: {average_word_count}')\n",
    "print(f'Медианное количество слов: {median_word_count}')"
   ]
  },
  {
   "cell_type": "code",
   "execution_count": null,
   "id": "d94f8d64",
   "metadata": {},
   "outputs": [],
   "source": [
    "#убрать все заголовки из 2+ предложений\n",
    "\n",
    "import pandas as pd\n",
    "file_path = 'C:\\\\Users\\\\Sigma4ka\\\\Desktop\\\\headers.xlsx' \n",
    "df = pd.read_excel(file_path)\n",
    "filtered_rows = []\n",
    "def count_sentences(text):\n",
    "    if pd.isna(text):  \n",
    "        return 0\n",
    "    return sum(1 for char in text if char in '.!?')  \n",
    "\n",
    "for index, row in df.iterrows():\n",
    "    if count_sentences(row[\"Ярослав Кузьминов: нехватку кадров в России можно решить\"]) > 1:\n",
    "            filtered_rows.append(row)\n",
    "filtered_df = pd.DataFrame(filtered_rows)\n",
    "\n",
    "\n",
    "with pd.ExcelWriter(file_path, engine='openpyxl', mode='a') as writer:\n",
    "    filtered_df.to_excel(writer, sheet_name='2+ предложений', index=False)\n",
    "\n"
   ]
  },
  {
   "cell_type": "code",
   "execution_count": 33,
   "id": "78231895",
   "metadata": {},
   "outputs": [
    {
     "name": "stdout",
     "output_type": "stream",
     "text": [
      "Доли предложений по знакам препинания:\n",
      "'.' = 1.70%\n",
      "'!' = 0.85%\n",
      "'?' = 3.57%\n",
      "'без знака' = 93.89%\n"
     ]
    }
   ],
   "source": [
    "import pandas as pd\n",
    "file_path = 'C:\\\\Users\\\\Sigma4ka\\\\Desktop\\\\headers.xlsx'\n",
    "df = pd.read_excel(file_path)\n",
    "text_column = df[\"Ярослав Кузьминов: нехватку кадров в России можно решить\"].iloc[0:1178] \n",
    "punctuation_marks = ['.', '!', '?']\n",
    "punctuation_count = {mark: 0 for mark in punctuation_marks}\n",
    "punctuation_count['без знака'] = 0\n",
    "for sentence in text_column:\n",
    "    sentence = sentence.strip() \n",
    "    if sentence: \n",
    "        if sentence[-1] in punctuation_marks:\n",
    "            punctuation_count[sentence[-1]] += 1\n",
    "        else:\n",
    "            punctuation_count['без знака'] += 1\n",
    "\n",
    "total_sentences = len(text_column)\n",
    "punctuation_ratios = {mark: count / total_sentences for mark, count in punctuation_count.items()}\n",
    "\n",
    "print(\"Доли предложений по знакам препинания:\")\n",
    "for mark, ratio in punctuation_ratios.items():\n",
    "    print(f\"'{mark}' = {ratio:.2%}\")\n"
   ]
  }
 ],
 "metadata": {
  "kernelspec": {
   "display_name": "Python 3",
   "language": "python",
   "name": "python3"
  },
  "language_info": {
   "codemirror_mode": {
    "name": "ipython",
    "version": 3
   },
   "file_extension": ".py",
   "mimetype": "text/x-python",
   "name": "python",
   "nbconvert_exporter": "python",
   "pygments_lexer": "ipython3",
   "version": "3.11.9"
  }
 },
 "nbformat": 4,
 "nbformat_minor": 5
}
